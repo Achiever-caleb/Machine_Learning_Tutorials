{
  "nbformat": 4,
  "nbformat_minor": 0,
  "metadata": {
    "colab": {
      "provenance": [],
      "authorship_tag": "ABX9TyOJLKepYrs1eoioLfpj5r+4",
      "include_colab_link": true
    },
    "kernelspec": {
      "name": "python3",
      "display_name": "Python 3"
    },
    "language_info": {
      "name": "python"
    }
  },
  "cells": [
    {
      "cell_type": "markdown",
      "metadata": {
        "id": "view-in-github",
        "colab_type": "text"
      },
      "source": [
        "<a href=\"https://colab.research.google.com/github/Achiever-caleb/Machine_Learning_Tutorials/blob/main/Pandas_Numpy_Matplotlib_Plotly_and_Seaborn_for_Machine_Learning.ipynb\" target=\"_parent\"><img src=\"https://colab.research.google.com/assets/colab-badge.svg\" alt=\"Open In Colab\"/></a>"
      ]
    },
    {
      "cell_type": "markdown",
      "source": [
        "# Pandas, Numpy, Matplotlib, Plotly and Seaborn for Machine Learning"
      ],
      "metadata": {
        "id": "et4FGxLlAdUd"
      }
    },
    {
      "cell_type": "markdown",
      "source": [
        "Brief Overview\n",
        "\n",
        "Pandas\n",
        "\n",
        "- Purpose: Handles structured data (tables) and provides powerful tools for data manipulation and analysis.\n",
        "- Key Features:\n",
        "DataFrame and Series objects for data storage.\n",
        "Built-in functions for aggregation, filtering, and cleaning.\n",
        "\n",
        "Numpy\n",
        "\n",
        "- Purpose: Provides support for numerical computations and handling multi-dimensional arrays.\n",
        "- Key Features:\n",
        "Efficient operations on large datasets.\n",
        "Mathematical and statistical functions.\n",
        "\n",
        "Plotly\n",
        "\n",
        "- Purpose: Visualization libraries to create dynamic, interactive, and publication-quality plots.\n",
        "\n",
        "\n",
        "Matplotlib/Seaborn\n",
        "\n",
        "- Purpose: Visualization libraries to create static, interactive, and publication-quality plots.\n",
        "- Key Features:\n",
        "Matplotlib: Basic plots like bar, line, scatter.\n",
        "Seaborn: High-level interface with advanced statistical plots."
      ],
      "metadata": {
        "id": "ZK0FcFxrHjmo"
      }
    },
    {
      "cell_type": "markdown",
      "source": [
        "## Pandas\n",
        "\n",
        "- Pandas is a powerful Python library for data manipulation and analysis. It provides data structures like DataFrames and Series that make working with structured data easy and intuitive."
      ],
      "metadata": {
        "id": "yAkwaySCICW0"
      }
    },
    {
      "cell_type": "code",
      "execution_count": null,
      "metadata": {
        "id": "vX3IACdqAOxE"
      },
      "outputs": [],
      "source": [
        "import pandas as pd\n",
        "import numpy as np"
      ]
    },
    {
      "cell_type": "markdown",
      "source": [
        "### Series\n",
        "\n",
        "- A Series is a one-dimensional labeled array capable of holding data of any type (integer, string, float, Python objects, etc.). It's like a column in a table."
      ],
      "metadata": {
        "id": "QlD7fiemIaMe"
      }
    },
    {
      "cell_type": "code",
      "source": [
        "# Creating a Series\n",
        "print(\"\\n# Creating a Series\")\n",
        "data = [10, 20, 30, 40, 50]\n",
        "s = pd.Series(data)\n",
        "print(\"Series from a list:\\n\", s)\n",
        "\n",
        "data = {'a': 10, 'b': 20, 'c': 30}\n",
        "s = pd.Series(data)\n",
        "print(\"\\nSeries from a dictionary:\\n\", s)"
      ],
      "metadata": {
        "id": "L8NR16M_IZOP"
      },
      "execution_count": null,
      "outputs": []
    },
    {
      "cell_type": "code",
      "source": [
        "# Accessing elements\n",
        "print(\"\\n# Accessing elements in a Series\")\n",
        "print(\"Element at index 0:\", s[0])\n",
        "print(\"Element with label 'b':\", s['b'])"
      ],
      "metadata": {
        "id": "qhaJZ4fOIu2T"
      },
      "execution_count": null,
      "outputs": []
    },
    {
      "cell_type": "markdown",
      "source": [
        "### DataFrame\n",
        "- A DataFrame is a two-dimensional labeled data structure with columns of potentially different types. It's like a table or a spreadsheet.\")\n"
      ],
      "metadata": {
        "id": "vx28lERhSn3p"
      }
    },
    {
      "cell_type": "code",
      "source": [
        "# Creating a DataFrame\n",
        "data = {'Name': ['Alice', 'Bob', 'Charlie', 'David', 'Eve'],\n",
        "        'Age': [25, 30, 22, 28, 24],\n",
        "        'City': ['New York', 'London', 'Paris', 'Tokyo', 'Sydney'],\n",
        "        'Salary': [60000, np.nan, 55000, 70000, 62000]}\n",
        "df = pd.DataFrame(data)\n",
        "print(\"DataFrame from a dictionary:\\n\", df)"
      ],
      "metadata": {
        "id": "Pz9daTB-StFP"
      },
      "execution_count": null,
      "outputs": []
    },
    {
      "cell_type": "code",
      "source": [
        "data = [['Alice', 25, 'New York', 60000],\n",
        "        ['Bob', 30, 'London', np.nan],\n",
        "        ['Charlie', 22, 'Paris', 55000],\n",
        "        ['David', 28, 'Tokyo', 70000],\n",
        "        ['Eve', 24, 'Sydney', 62000]]\n",
        "df2 = pd.DataFrame(data, columns=['Name', 'Age', 'City', 'Salary'])\n",
        "print(\"\\nDataFrame from a list of lists:\\n\", df2)"
      ],
      "metadata": {
        "id": "Xhsah5V_TCyn"
      },
      "execution_count": null,
      "outputs": []
    },
    {
      "cell_type": "markdown",
      "source": [
        "### Basic DataFrame Operations\n"
      ],
      "metadata": {
        "id": "cgdxN-wxTGzQ"
      }
    },
    {
      "cell_type": "markdown",
      "source": [
        "- Accessing columns"
      ],
      "metadata": {
        "id": "3pYUXdC9TSO0"
      }
    },
    {
      "cell_type": "code",
      "source": [
        "print(\"\\nAccessing a column:\")\n",
        "print(df['Name'])\n",
        "print(\"\\nAccessing multiple columns:\")\n",
        "print(df[['Name', 'Salary']])"
      ],
      "metadata": {
        "id": "QsZDZB7YTJDC"
      },
      "execution_count": null,
      "outputs": []
    },
    {
      "cell_type": "markdown",
      "source": [
        "Accessing rows (using .loc and .iloc)\n",
        "\n",
        "- iloc\n",
        "    \n",
        "  - Integer-based indexing: iloc selects rows and columns by their integer position.\n",
        " - Zero-based indexing: The first row and column have an index of 0.\n",
        "Inclusive slicing: When slicing with iloc, the end index is included.\n",
        "\n",
        "- loc\n",
        "\n",
        " - Label-based indexing: loc selects rows and columns by their labels.\n",
        " - Inclusive slicing: Similar to iloc, the end index is included."
      ],
      "metadata": {
        "id": "4yfpOrgaThG6"
      }
    },
    {
      "cell_type": "code",
      "source": [
        "print(\"\\nAccessing rows:\")\n",
        "print(\"First row (using .iloc): \\n\", df.iloc[0]) #integer based indexing\n",
        "print(\"Row with index 2 (using .loc): \\n\", df.loc[2]) #label based indexing. Since we did not specify an index when creating the dataframe, by default it is numerical, so in this case it is the same as iloc\n",
        "print(\"Rows from index 1 to 3 (using .iloc): \\n\", df.iloc[1:4])\n",
        "print(\"Rows from index 1 to 3 (using .loc): \\n\", df.loc[1:3]) #loc is inclusive of the last element"
      ],
      "metadata": {
        "id": "hEU-XqaITdad"
      },
      "execution_count": null,
      "outputs": []
    },
    {
      "cell_type": "markdown",
      "source": [
        "- Adding a new column"
      ],
      "metadata": {
        "id": "8JW_MRX5XMjt"
      }
    },
    {
      "cell_type": "code",
      "source": [
        "\n",
        "print(\"\\nAdding a new column:\")\n",
        "df['Bonus'] = [5000, 0, 3000, 7000, 2000]\n",
        "print(df)\n"
      ],
      "metadata": {
        "id": "hBTZuvJUXH1w"
      },
      "execution_count": null,
      "outputs": []
    },
    {
      "cell_type": "markdown",
      "source": [
        "\n",
        "- Deleting a column"
      ],
      "metadata": {
        "id": "voYZcg3aXYxB"
      }
    },
    {
      "cell_type": "code",
      "source": [
        "print(\"\\nDeleting a column:\")\n",
        "df_copy = df.copy() #create copy so original df is not modified\n",
        "df_copy = df_copy.drop('Bonus', axis=1) #axis=1 specifies column\n",
        "print(df_copy)"
      ],
      "metadata": {
        "id": "6ujNlpj3XVdL"
      },
      "execution_count": null,
      "outputs": []
    },
    {
      "cell_type": "markdown",
      "source": [
        "- Filtering Data"
      ],
      "metadata": {
        "id": "F1UD71_YXjUV"
      }
    },
    {
      "cell_type": "code",
      "source": [
        "print(\"\\n# Filtering Data\")\n",
        "print(\"People older than 25:\\n\", df[df['Age'] > 25])\n",
        "print(\"\\nPeople from New York:\\n\", df[df['City'] == \"New York\"])\n",
        "print(\"\\nPeople with salary greater than 60000 and from Tokyo:\\n\", df[(df['Salary'] > 60000) & (df['City'] == \"Tokyo\")])\n"
      ],
      "metadata": {
        "id": "QfpfS_vYXhDA"
      },
      "execution_count": null,
      "outputs": []
    },
    {
      "cell_type": "markdown",
      "source": [
        "- Handling Missing Data"
      ],
      "metadata": {
        "id": "WStBDczOX0Cg"
      }
    },
    {
      "cell_type": "code",
      "source": [
        "print(\"DataFrame with missing data:\\n\", df)\n",
        "\n",
        "print(\"\\nChecking for missing values:\")\n",
        "print(df.isnull())\n",
        "\n",
        "print(\"\\nNumber of missing values in each column:\")\n",
        "print(df.isnull().sum())\n",
        "\n",
        "print(\"\\nFilling missing salary with 0:\")\n",
        "df_filled = df.copy()\n",
        "df_filled['Salary'].fillna(0, inplace=True)\n",
        "print(df_filled)\n",
        "\n",
        "print(\"\\nFilling missing salary with the mean:\")\n",
        "df_filled2 = df.copy()\n",
        "df_filled2['Salary'].fillna(df['Salary'].mean(), inplace=True)\n",
        "print(df_filled2)\n",
        "\n",
        "print(\"\\nDropping rows with missing values:\")\n",
        "df_dropped = df.copy()\n",
        "df_dropped.dropna(inplace=True)\n",
        "print(df_dropped)"
      ],
      "metadata": {
        "id": "eE-ml0ubXw5j"
      },
      "execution_count": null,
      "outputs": []
    },
    {
      "cell_type": "markdown",
      "source": [
        "- Basic Descriptive Statistics"
      ],
      "metadata": {
        "id": "53QgrU02YHgo"
      }
    },
    {
      "cell_type": "code",
      "source": [
        "print(\"\\n# Basic Descriptive Statistics\")\n",
        "print(df.describe())"
      ],
      "metadata": {
        "id": "N6Hs4q_XYCus"
      },
      "execution_count": null,
      "outputs": []
    },
    {
      "cell_type": "markdown",
      "source": [
        "\n",
        "\n",
        "- Grouping"
      ],
      "metadata": {
        "id": "zZGauDIuYR2m"
      }
    },
    {
      "cell_type": "code",
      "source": [
        "print(\"Mean salary by city\")\n",
        "print(df.groupby('City')['Salary'].mean())\n",
        "print(\"Median salary by city\")\n",
        "print(df.groupby('City')['Salary'].median())\n",
        "print(\"Max salary by city\")\n",
        "print(df.groupby('City')['Salary'].max())\n",
        "print(\"Min salary by city\")\n",
        "print(df.groupby('City')['Salary'].min())"
      ],
      "metadata": {
        "id": "qqmO0J-3YO4o"
      },
      "execution_count": null,
      "outputs": []
    },
    {
      "cell_type": "markdown",
      "source": [
        "- Sorting"
      ],
      "metadata": {
        "id": "CExfzRwuZLBA"
      }
    },
    {
      "cell_type": "code",
      "source": [
        "print(\"Sorting by age\")\n",
        "print(df.sort_values(by='Age'))\n",
        "print(\"\\nSorting by age descending\")\n",
        "print(df.sort_values(by='Age', ascending=False))"
      ],
      "metadata": {
        "id": "CFmTGXilY_s4"
      },
      "execution_count": null,
      "outputs": []
    },
    {
      "cell_type": "markdown",
      "source": [
        "## Numpy"
      ],
      "metadata": {
        "id": "OBWM8F2iZ7HS"
      }
    },
    {
      "cell_type": "markdown",
      "source": [
        "- NumPy: Numerical Computing in Python\n",
        " - NumPy is the fundamental package for numerical computation in Python. It provides powerful tools for working with arrays and matrices.\n"
      ],
      "metadata": {
        "id": "MRSumqr0aEkc"
      }
    },
    {
      "cell_type": "markdown",
      "source": [
        "### Creating NumPy Arrays\n",
        "- NumPy arrays are homogeneous (all elements have the same data type) and are more efficient than Python lists for numerical operations.\n"
      ],
      "metadata": {
        "id": "g2Dnk47ZalhS"
      }
    },
    {
      "cell_type": "code",
      "source": [
        "# From a Python list\n",
        "print(\"\\n# From a Python list:\")\n",
        "python_list = [1, 2, 3, 4, 5]\n",
        "np_array = np.array(python_list)\n",
        "print(np_array)\n",
        "print(type(np_array))"
      ],
      "metadata": {
        "id": "hZh4BBuVaL5n"
      },
      "execution_count": null,
      "outputs": []
    },
    {
      "cell_type": "code",
      "source": [
        "# Using np.arange()\n",
        "print(\"\\n# Using np.arange():\")\n",
        "array1 = np.arange(10)  # 0 to 9\n",
        "print(array1)\n",
        "array2 = np.arange(5, 15)  # 5 to 14\n",
        "print(array2)\n",
        "array3 = np.arange(0, 20, 2)  # 0 to 18, step of 2\n",
        "print(array3)"
      ],
      "metadata": {
        "id": "M0HWBr1ia6hl"
      },
      "execution_count": null,
      "outputs": []
    },
    {
      "cell_type": "code",
      "source": [
        "# Using np.linspace()\n",
        "print(\"\\n# Using np.linspace():\")\n",
        "array4 = np.linspace(0, 1, 5)  # 5 evenly spaced numbers from 0 to 1 (inclusive)\n",
        "print(array4)"
      ],
      "metadata": {
        "id": "ICHCE-wUbBh_"
      },
      "execution_count": null,
      "outputs": []
    },
    {
      "cell_type": "code",
      "source": [
        "# Using np.zeros(), np.ones(), np.empty()\n",
        "print(\"\\n# Using np.zeros(), np.ones(), np.empty():\")\n",
        "zeros_array = np.zeros((3, 4))  # 3x4 array of zeros\n",
        "print(\"Zeros array:\\n\",zeros_array)\n",
        "ones_array = np.ones((2, 2))  # 2x2 array of ones\n",
        "print(\"\\nOnes array:\\n\", ones_array)\n",
        "empty_array = np.empty((2, 3)) #creates an uninitialized array of given shape\n",
        "print(\"\\nEmpty array:\\n\", empty_array)"
      ],
      "metadata": {
        "id": "JO2xanjpbICu"
      },
      "execution_count": null,
      "outputs": []
    },
    {
      "cell_type": "markdown",
      "source": [
        "### Array Attributes\n",
        "\n",
        "- NumPy arrays have useful attributes like shape, dtype, and ndim."
      ],
      "metadata": {
        "id": "m2wNztLGbRlv"
      }
    },
    {
      "cell_type": "code",
      "source": [
        "array = np.array([[1, 2, 3], [4, 5, 6]])\n",
        "print(\"Array:\\n\", array)\n",
        "print(\"Shape:\", array.shape)  # (rows, columns)\n",
        "print(\"Data type:\", array.dtype)\n",
        "print(\"Number of dimensions:\", array.ndim)"
      ],
      "metadata": {
        "id": "kGBzLlrIbNSY"
      },
      "execution_count": null,
      "outputs": []
    },
    {
      "cell_type": "markdown",
      "source": [
        "### Array Indexing and Slicing\n",
        "- Similar to Python lists, but with more powerful slicing capabilities."
      ],
      "metadata": {
        "id": "-jDKl1BVbjfI"
      }
    },
    {
      "cell_type": "code",
      "source": [
        "\n",
        "array = np.array([10, 20, 30, 40, 50])\n",
        "print(\"Array:\", array)\n",
        "print(\"Element at index 2:\", array[2])\n",
        "print(\"Slice from index 1 to 4:\", array[1:4])\n",
        "print(\"Slice from the beginning to index 3:\", array[:3])\n",
        "print(\"Slice from index 2 to the end:\", array[2:])"
      ],
      "metadata": {
        "id": "y3hUXktNbhIi"
      },
      "execution_count": null,
      "outputs": []
    },
    {
      "cell_type": "code",
      "source": [
        "array_2d = np.array([[1, 2, 3], [4, 5, 6], [7, 8, 9]])\n",
        "print(\"\\n2D array:\\n\", array_2d)\n",
        "print(\"Element at row 1, column 2:\", array_2d[1, 2]) #accessing element at row 1, column 2\n",
        "print(\"Row 0:\", array_2d[0, :]) #accessing row 0\n",
        "print(\"Column 1:\", array_2d[:, 1]) #accessing column 1\n",
        "print(\"Subarray (top-left 2x2): \\n\", array_2d[:2, :2])"
      ],
      "metadata": {
        "id": "xWGuC00Abu_P"
      },
      "execution_count": null,
      "outputs": []
    },
    {
      "cell_type": "markdown",
      "source": [
        "### Array Operations\n",
        "\n",
        "- NumPy allows element-wise operations on arrays."
      ],
      "metadata": {
        "id": "Sc3U3m2ucPEl"
      }
    },
    {
      "cell_type": "code",
      "source": [
        "array1 = np.array([1, 2, 3])\n",
        "array2 = np.array([4, 5, 6])\n",
        "\n",
        "print(\"Array 1:\", array1)\n",
        "print(\"Array 2:\", array2)\n",
        "\n",
        "print(\"Addition:\", array1 + array2)\n",
        "print(\"Subtraction:\", array1 - array2)\n",
        "print(\"Multiplication:\", array1 * array2)\n",
        "print(\"Division:\", array1 / array2)\n",
        "print(\"Scalar multiplication:\", array1 * 3)\n",
        "print(\"Exponentiation:\", array1 ** 2)"
      ],
      "metadata": {
        "id": "ZriU6X8kb9z3"
      },
      "execution_count": null,
      "outputs": []
    },
    {
      "cell_type": "markdown",
      "source": [
        "### Universal Functions (ufuncs)\n",
        "\n",
        "- NumPy provides many universal functions that operate element-wise on arrays."
      ],
      "metadata": {
        "id": "x8ugNLsVcbh9"
      }
    },
    {
      "cell_type": "code",
      "source": [
        "\n",
        "array = np.array([1, 4, 9, 16])\n",
        "print(\"Array:\", array)\n",
        "print(\"Square root:\", np.sqrt(array))\n",
        "print(\"Exponential:\", np.exp(array))\n",
        "print(\"Logarithm:\", np.log(array))"
      ],
      "metadata": {
        "id": "uG7X0l2lcYJx"
      },
      "execution_count": null,
      "outputs": []
    },
    {
      "cell_type": "markdown",
      "source": [
        "### Aggregation Functions\n",
        "\n",
        "- NumPy provides functions for performing aggregations like sum, mean, min, max, etc."
      ],
      "metadata": {
        "id": "9kDcRLFdcreh"
      }
    },
    {
      "cell_type": "code",
      "source": [
        "\n",
        "array = np.array([1, 2, 3, 4, 5])\n",
        "print(\"Array:\", array)\n",
        "print(\"Sum:\", np.sum(array))\n",
        "print(\"Mean:\", np.mean(array))\n",
        "print(\"Min:\", np.min(array))\n",
        "print(\"Max:\", np.max(array))\n",
        "print(\"Standard deviation:\", np.std(array))\n"
      ],
      "metadata": {
        "id": "8JPJUvXOcpVb"
      },
      "execution_count": null,
      "outputs": []
    },
    {
      "cell_type": "markdown",
      "source": [
        "### Reshaping Arrays\n"
      ],
      "metadata": {
        "id": "sYe3Ic3Zc6M1"
      }
    },
    {
      "cell_type": "code",
      "source": [
        "\n",
        "array = np.arange(12)\n",
        "print(\"Original Array:\", array)\n",
        "reshaped_array = array.reshape(3, 4) #reshapes array to 3 rows and 4 columns\n",
        "print(\"Reshaped Array:\\n\", reshaped_array)\n",
        "flattened_array = reshaped_array.flatten() #flattens the array to 1 dimension\n",
        "print(\"Flattened Array:\", flattened_array)"
      ],
      "metadata": {
        "id": "qppKffC_c3cu"
      },
      "execution_count": null,
      "outputs": []
    },
    {
      "cell_type": "markdown",
      "source": [
        "## Matplotlib: Data Visualization in Python\n",
        "- Matplotlib is a powerful library for creating static, interactive, and animated visualizations in Python. It provides a wide range of plotting functions for various data types."
      ],
      "metadata": {
        "id": "2j1gnJzsfEnr"
      }
    },
    {
      "cell_type": "code",
      "source": [
        "import matplotlib.pyplot as plt"
      ],
      "metadata": {
        "id": "bKXfXs8be9P_"
      },
      "execution_count": null,
      "outputs": []
    },
    {
      "cell_type": "markdown",
      "source": [
        "### Basic Plotting\n",
        "- The simplest way to create a plot is using the plot() function."
      ],
      "metadata": {
        "id": "Ysdfi4RafiJ1"
      }
    },
    {
      "cell_type": "code",
      "source": [
        "# Sample data\n",
        "x = np.linspace(0, 10, 100)  # Create 100 evenly spaced points between 0 and 10\n",
        "y = np.sin(x)\n",
        "\n",
        "# Code Example:\n",
        "plt.plot(x, y)\n",
        "plt.xlabel(\"X-axis\")\n",
        "plt.ylabel(\"Y-axis\")\n",
        "plt.title(\"Sine Wave Plot\")\n",
        "plt.show()"
      ],
      "metadata": {
        "id": "X3nI59FAfdA-"
      },
      "execution_count": null,
      "outputs": []
    },
    {
      "cell_type": "markdown",
      "source": [
        "\n",
        "### Customizing Plots\n",
        "- Matplotlib provides extensive options for customizing plots, including line styles, colors, markers, labels, titles, and more."
      ],
      "metadata": {
        "id": "hitLHOb-gNEu"
      }
    },
    {
      "cell_type": "code",
      "source": [
        "# Code Example:\n",
        "plt.plot(x, y, color='red', linestyle='--', marker='o', label='sin(x)') #added label for legend\n",
        "plt.xlabel(\"X-axis\")\n",
        "plt.ylabel(\"Y-axis\")\n",
        "plt.title(\"Customized Sine Wave Plot\")\n",
        "plt.legend() #show the legend\n",
        "plt.show()"
      ],
      "metadata": {
        "id": "w2BZd2-bgFTb"
      },
      "execution_count": null,
      "outputs": []
    },
    {
      "cell_type": "markdown",
      "source": [
        "### Multiple Plots on the Same Axes\n",
        "\n",
        "- You can plot multiple datasets on the same axes by calling the plot() function multiple times."
      ],
      "metadata": {
        "id": "U33MDilBgeF9"
      }
    },
    {
      "cell_type": "code",
      "source": [
        "# Code Example:\n",
        "y2 = np.cos(x)\n",
        "plt.plot(x, y, label='sin(x)')\n",
        "plt.plot(x, y2, label='cos(x)')\n",
        "plt.xlabel(\"X-axis\")\n",
        "plt.ylabel(\"Y-axis\")\n",
        "plt.title(\"Sine and Cosine Wave Plot\")\n",
        "plt.legend()\n",
        "plt.show()\n"
      ],
      "metadata": {
        "id": "-sEuGELqgae2"
      },
      "execution_count": null,
      "outputs": []
    },
    {
      "cell_type": "markdown",
      "source": [
        "### Subplots\n",
        "\n",
        "- Subplots allow you to create multiple plots within the same figure."
      ],
      "metadata": {
        "id": "Sk83U0OvgtJf"
      }
    },
    {
      "cell_type": "code",
      "source": [
        "# Code Example:\n",
        "fig, axes = plt.subplots(2, 1, figsize=(8, 6))  # 2 rows, 1 column of subplots, figsize sets the figure size\n",
        "axes[0].plot(x, y)\n",
        "axes[0].set_title(\"Sine Wave\")\n",
        "axes[1].plot(x, y2, color='orange')\n",
        "axes[1].set_title(\"Cosine Wave\")\n",
        "plt.tight_layout() #adjusts subplot params so that subplots fit in to the figure area.\n",
        "plt.show()"
      ],
      "metadata": {
        "id": "riy2jiptgqCb"
      },
      "execution_count": null,
      "outputs": []
    },
    {
      "cell_type": "markdown",
      "source": [
        "### Scatter Plots\n",
        "\n",
        "- Scatter plots are used to visualize the relationship between two variables.\n"
      ],
      "metadata": {
        "id": "XfQrflDfkQvz"
      }
    },
    {
      "cell_type": "code",
      "source": [
        "# Sample Data\n",
        "x = np.random.rand(50)\n",
        "y = np.random.rand(50)\n",
        "colors = np.random.rand(50)\n",
        "sizes = (100 * np.random.rand(50))**2\n",
        "\n",
        "# Code Example:\n",
        "plt.scatter(x, y, c=colors, s=sizes, alpha=0.5, cmap='viridis') #c is for color, s is for size, alpha is for transparency, cmap is for colormap\n",
        "plt.xlabel(\"X\")\n",
        "plt.ylabel(\"Y\")\n",
        "plt.title(\"Scatter Plot\")\n",
        "plt.colorbar() #show the colorbar\n",
        "plt.show()"
      ],
      "metadata": {
        "id": "2lv3a1hukM5d"
      },
      "execution_count": null,
      "outputs": []
    },
    {
      "cell_type": "markdown",
      "source": [
        "### Bar Charts\n",
        "\n",
        "- Bar charts are used to compare categorical data."
      ],
      "metadata": {
        "id": "SKqmtYp3kiJd"
      }
    },
    {
      "cell_type": "code",
      "source": [
        "# Sample data\n",
        "categories = ['A', 'B', 'C', 'D']\n",
        "values = [25, 15, 30, 10]\n",
        "\n",
        "# Code Example:\n",
        "plt.bar(categories, values)\n",
        "plt.xlabel(\"Categories\")\n",
        "plt.ylabel(\"Values\")\n",
        "plt.title(\"Bar Chart\")\n",
        "plt.show()"
      ],
      "metadata": {
        "id": "Z-GZfxm3kbMu"
      },
      "execution_count": null,
      "outputs": []
    },
    {
      "cell_type": "markdown",
      "source": [
        "### Histograms\n",
        "\n",
        "- Histograms are used to visualize the distribution of a single numerical variable."
      ],
      "metadata": {
        "id": "6LlReZ_Pkt9_"
      }
    },
    {
      "cell_type": "code",
      "source": [
        "# Sample data\n",
        "data = np.random.normal(0, 1, 1000)  # 1000 random numbers from a normal distribution\n",
        "\n",
        "# Code Example:\n",
        "plt.hist(data, bins=30, edgecolor='black') #bins adjusts how many bars are shown\n",
        "plt.xlabel(\"Value\")\n",
        "plt.ylabel(\"Frequency\")\n",
        "plt.title(\"Histogram\")\n",
        "plt.show()"
      ],
      "metadata": {
        "id": "a91FaRjVkrlp"
      },
      "execution_count": null,
      "outputs": []
    },
    {
      "cell_type": "markdown",
      "source": [
        "### Pie Charts\n",
        "\n",
        "- Pie charts are used to show the proportions of different categories in a whole."
      ],
      "metadata": {
        "id": "nY2IkYOTk94W"
      }
    },
    {
      "cell_type": "code",
      "source": [
        "\n",
        "# Sample data\n",
        "labels = ['Frogs', 'Hogs', 'Dogs', 'Logs']\n",
        "sizes = [15, 30, 45, 10]\n",
        "explode = (0, 0.1, 0, 0)  # only \"explode\" the 2nd slice (i.e. 'Hogs')\n",
        "\n",
        "# Code Example:\n",
        "plt.pie(sizes, explode=explode, labels=labels, autopct='%1.1f%%', shadow=True, startangle=90) #autopct shows the percentage, shadow adds a shadow effect, startangle starts the first slice at 90 degrees\n",
        "plt.title(\"Pie Chart\")\n",
        "plt.axis('equal')  # Equal aspect ratio ensures that pie is drawn as a circle.\n",
        "plt.show()"
      ],
      "metadata": {
        "id": "T_S-pwWek7hJ"
      },
      "execution_count": null,
      "outputs": []
    },
    {
      "cell_type": "markdown",
      "source": [
        "## Seaborn: Statistical Data Visualization\n",
        "- Seaborn is a Python data visualization library based on Matplotlib. It provides a high-level interface for creating attractive and informative statistical graphics.\n"
      ],
      "metadata": {
        "id": "wbkc8Mvbla0n"
      }
    },
    {
      "cell_type": "code",
      "source": [
        "import seaborn as sns"
      ],
      "metadata": {
        "id": "yNv5KJB_lV0V"
      },
      "execution_count": null,
      "outputs": []
    },
    {
      "cell_type": "code",
      "source": [
        "# Sample Data (using a Pandas DataFrame)\n",
        "np.random.seed(42) #for reproducibility\n",
        "data = {'Category': ['A', 'A', 'B', 'B', 'C', 'C', 'A', 'B', 'C', 'A'],\n",
        "        'Value': np.random.rand(10),\n",
        "        'Group': ['X', 'Y', 'X', 'Y', 'X', 'Y', 'Y', 'X', 'Y', 'X']}\n",
        "df = pd.DataFrame(data)"
      ],
      "metadata": {
        "id": "4eAMFUJVlsvQ"
      },
      "execution_count": null,
      "outputs": []
    },
    {
      "cell_type": "markdown",
      "source": [
        "### Scatter Plots\n",
        "\n",
        "- Seaborn's scatterplot() is a more advanced version of Matplotlib's scatter(). It can handle grouping and other statistical features more easily.\n"
      ],
      "metadata": {
        "id": "xjzrm6hpmVfK"
      }
    },
    {
      "cell_type": "code",
      "source": [
        "\n",
        "# Code Example:\n",
        "sns.scatterplot(x='Category', y='Value', data=df, hue='Group', style='Group', s=100) #hue and style add different colors and markers for different groups\n",
        "plt.title(\"Scatter Plot with Seaborn\")\n",
        "plt.show()"
      ],
      "metadata": {
        "id": "n4IBbaLEmQdN"
      },
      "execution_count": null,
      "outputs": []
    },
    {
      "cell_type": "markdown",
      "source": [
        "### Line Plots\n",
        "\n",
        "- Seaborn's lineplot() is used to visualize trends over continuous data."
      ],
      "metadata": {
        "id": "06uIH83TmoFm"
      }
    },
    {
      "cell_type": "code",
      "source": [
        "# Sample Data\n",
        "x = np.linspace(0, 10, 100)\n",
        "y = np.sin(x)\n",
        "df_line = pd.DataFrame({'x': x, 'y': y})\n",
        "\n",
        "# Code Example:\n",
        "sns.lineplot(x='x', y='y', data=df_line)\n",
        "plt.title(\"Line Plot with Seaborn\")\n",
        "plt.show()"
      ],
      "metadata": {
        "id": "6814Vus2mlxe"
      },
      "execution_count": null,
      "outputs": []
    },
    {
      "cell_type": "markdown",
      "source": [
        "### Bar Plots\n",
        "\n",
        "- Seaborn's barplot() is used to compare aggregated values (like means) across different categories."
      ],
      "metadata": {
        "id": "eq5fA4CTnXuQ"
      }
    },
    {
      "cell_type": "code",
      "source": [
        "\n",
        "# Code Example:\n",
        "sns.barplot(x='Category', y='Value', data=df)\n",
        "plt.title(\"Bar Plot with Seaborn\")\n",
        "plt.show()"
      ],
      "metadata": {
        "id": "fWd0LXsNm2zr"
      },
      "execution_count": null,
      "outputs": []
    },
    {
      "cell_type": "markdown",
      "source": [
        "### Count Plots\n",
        "\n",
        " Seaborn's countplot() is used to show the counts of observations in each categorical bin.\n"
      ],
      "metadata": {
        "id": "vEFd9oTYnf16"
      }
    },
    {
      "cell_type": "code",
      "source": [
        "\n",
        "# Code Example:\n",
        "sns.countplot(x='Category', data=df)\n",
        "plt.title(\"Count Plot with Seaborn\")\n",
        "plt.show()"
      ],
      "metadata": {
        "id": "DWJJjiKZndsj"
      },
      "execution_count": null,
      "outputs": []
    },
    {
      "cell_type": "markdown",
      "source": [
        "### Histograms (Distributions)\n",
        "\n",
        "- Seaborn's histplot() or displot() (more flexible) is used to visualize the distribution of a single numerical variable.\n"
      ],
      "metadata": {
        "id": "8BqWXM0unyDQ"
      }
    },
    {
      "cell_type": "code",
      "source": [
        "\n",
        "# Code Example:\n",
        "sns.histplot(x='Value', data=df, kde=True) #kde adds a kernel density estimate line\n",
        "plt.title(\"Histogram with Seaborn\")\n",
        "plt.show()\n"
      ],
      "metadata": {
        "id": "wgTJ5v_Ynu3t"
      },
      "execution_count": null,
      "outputs": []
    },
    {
      "cell_type": "markdown",
      "source": [
        "### Box Plots\n",
        "\n",
        "- Seaborn's boxplot() is used to show the distribution of a numerical variable across different categories."
      ],
      "metadata": {
        "id": "adI1ok06oA9u"
      }
    },
    {
      "cell_type": "code",
      "source": [
        "\n",
        "# Code Example:\n",
        "sns.boxplot(x='Category', y='Value', data=df, hue='Group')\n",
        "plt.title(\"Box Plot with Seaborn\")\n",
        "plt.show()\n"
      ],
      "metadata": {
        "id": "R7_Py-Evn990"
      },
      "execution_count": null,
      "outputs": []
    },
    {
      "cell_type": "markdown",
      "source": [
        "### Violin Plots\n",
        "\n",
        "- Seaborn's violinplot() is similar to a box plot but provides a more detailed view of the distribution."
      ],
      "metadata": {
        "id": "yKLEFksroUMw"
      }
    },
    {
      "cell_type": "code",
      "source": [
        "\n",
        "# Code Example:\n",
        "sns.violinplot(x='Category', y='Value', data=df, hue='Group', split=True) #split combines the two violin plots into one when hue is used.\n",
        "plt.title(\"Violin Plot with Seaborn\")\n",
        "plt.show()"
      ],
      "metadata": {
        "id": "-qlKdJUgoO_4"
      },
      "execution_count": null,
      "outputs": []
    },
    {
      "cell_type": "markdown",
      "source": [
        "### Heatmaps\n",
        "\n",
        "- Heatmaps are used to visualize matrix data or correlations between variables."
      ],
      "metadata": {
        "id": "l-VOMfZ5ofxU"
      }
    },
    {
      "cell_type": "code",
      "source": [
        "# Sample data (correlation matrix)\n",
        "correlation_matrix = df[['Value']].corr()\n",
        "\n",
        "# Code Example:\n",
        "sns.heatmap(correlation_matrix, annot=True, cmap='coolwarm') #annot shows the correlation values on the heatmap, cmap changes the colormap\n",
        "plt.title(\"Heatmap with Seaborn\")\n",
        "plt.show()"
      ],
      "metadata": {
        "id": "j6CB_AqKocgk"
      },
      "execution_count": null,
      "outputs": []
    },
    {
      "cell_type": "markdown",
      "source": [
        "### Pair Plots\n",
        "\n",
        "- Seaborn's pairplot() creates a matrix of scatter plots showing the relationships between all pairs of variables in a DataFrame.\n"
      ],
      "metadata": {
        "id": "8tlBWuJ9o9eq"
      }
    },
    {
      "cell_type": "code",
      "source": [
        "\n",
        "# Sample Data (adding a new column to make it more interesting)\n",
        "df['Value2'] = np.random.rand(10)\n",
        "# Code Example:\n",
        "sns.pairplot(df, hue='Category')\n",
        "plt.title(\"Pair Plot with Seaborn\")\n",
        "plt.show()"
      ],
      "metadata": {
        "id": "Bj0I7TRRoxvx"
      },
      "execution_count": null,
      "outputs": []
    },
    {
      "cell_type": "markdown",
      "source": [
        " ### Plotly: Interactive Data Visualization\n",
        "\n",
        "- Plotly is a modern data visualization library that allows you to create interactive plots and dashboards. It's particularly well-suited for web applications and presentations.\")\n"
      ],
      "metadata": {
        "id": "zj0TpwQlphQZ"
      }
    },
    {
      "cell_type": "code",
      "source": [
        "import plotly.express as px\n",
        "import plotly.graph_objects as go\n"
      ],
      "metadata": {
        "id": "mUvkz4klpYxc"
      },
      "execution_count": null,
      "outputs": []
    },
    {
      "cell_type": "code",
      "source": [
        "# Sample Data (using a Pandas DataFrame)\n",
        "np.random.seed(42)\n",
        "data = {'Category': ['A', 'A', 'B', 'B', 'C', 'C', 'A', 'B', 'C', 'A'],\n",
        "        'Value': np.random.rand(10),\n",
        "        'Group': ['X', 'Y', 'X', 'Y', 'X', 'Y', 'Y', 'X', 'Y', 'X']}\n",
        "df = pd.DataFrame(data)"
      ],
      "metadata": {
        "id": "3F58HlvYp605"
      },
      "execution_count": null,
      "outputs": []
    },
    {
      "cell_type": "markdown",
      "source": [
        "### Scatter Plots (plotly.express)\n",
        "\n",
        "- plotly.express (px) provides a high-level interface for creating common plot types with minimal code.\n"
      ],
      "metadata": {
        "id": "KgGmz-THqDRu"
      }
    },
    {
      "cell_type": "code",
      "source": [
        "\n",
        "# Code Example:\n",
        "fig = px.scatter(df, x='Category', y='Value', color='Group', symbol='Group', title=\"Scatter Plot with Plotly Express\") #symbol adds different marker shapes\n",
        "fig.show()"
      ],
      "metadata": {
        "id": "61Y11bgJqArM"
      },
      "execution_count": null,
      "outputs": []
    },
    {
      "cell_type": "markdown",
      "source": [
        "### Scatter Plots (plotly.graph_objects)\n",
        "\n",
        "- plotly.graph_objects (go) provides more control over the plot's appearance and layout."
      ],
      "metadata": {
        "id": "LlVXJHDAqONk"
      }
    },
    {
      "cell_type": "code",
      "source": [
        "\n",
        "fig = go.Figure(data=go.Scatter(x=df['Category'], y=df['Value'], mode='markers', marker=dict(color=df['Value'], size=10)))\n",
        "fig.update_layout(title=\"Scatter Plot with Plotly Graph Objects\")\n",
        "fig.show()\n"
      ],
      "metadata": {
        "colab": {
          "base_uri": "https://localhost:8080/",
          "height": 183
        },
        "id": "uOgzCAyZqMK4",
        "outputId": "9f40a5dc-a2f5-4937-c359-7455eedfaf5d"
      },
      "execution_count": 1,
      "outputs": [
        {
          "output_type": "error",
          "ename": "NameError",
          "evalue": "name 'go' is not defined",
          "traceback": [
            "\u001b[0;31m---------------------------------------------------------------------------\u001b[0m",
            "\u001b[0;31mNameError\u001b[0m                                 Traceback (most recent call last)",
            "\u001b[0;32m<ipython-input-1-a76dcf785958>\u001b[0m in \u001b[0;36m<cell line: 1>\u001b[0;34m()\u001b[0m\n\u001b[0;32m----> 1\u001b[0;31m \u001b[0mfig\u001b[0m \u001b[0;34m=\u001b[0m \u001b[0mgo\u001b[0m\u001b[0;34m.\u001b[0m\u001b[0mFigure\u001b[0m\u001b[0;34m(\u001b[0m\u001b[0mdata\u001b[0m\u001b[0;34m=\u001b[0m\u001b[0mgo\u001b[0m\u001b[0;34m.\u001b[0m\u001b[0mScatter\u001b[0m\u001b[0;34m(\u001b[0m\u001b[0mx\u001b[0m\u001b[0;34m=\u001b[0m\u001b[0mdf\u001b[0m\u001b[0;34m[\u001b[0m\u001b[0;34m'Category'\u001b[0m\u001b[0;34m]\u001b[0m\u001b[0;34m,\u001b[0m \u001b[0my\u001b[0m\u001b[0;34m=\u001b[0m\u001b[0mdf\u001b[0m\u001b[0;34m[\u001b[0m\u001b[0;34m'Value'\u001b[0m\u001b[0;34m]\u001b[0m\u001b[0;34m,\u001b[0m \u001b[0mmode\u001b[0m\u001b[0;34m=\u001b[0m\u001b[0;34m'markers'\u001b[0m\u001b[0;34m,\u001b[0m \u001b[0mmarker\u001b[0m\u001b[0;34m=\u001b[0m\u001b[0mdict\u001b[0m\u001b[0;34m(\u001b[0m\u001b[0mcolor\u001b[0m\u001b[0;34m=\u001b[0m\u001b[0mdf\u001b[0m\u001b[0;34m[\u001b[0m\u001b[0;34m'Value'\u001b[0m\u001b[0;34m]\u001b[0m\u001b[0;34m,\u001b[0m \u001b[0msize\u001b[0m\u001b[0;34m=\u001b[0m\u001b[0;36m10\u001b[0m\u001b[0;34m)\u001b[0m\u001b[0;34m)\u001b[0m\u001b[0;34m)\u001b[0m\u001b[0;34m\u001b[0m\u001b[0;34m\u001b[0m\u001b[0m\n\u001b[0m\u001b[1;32m      2\u001b[0m \u001b[0mfig\u001b[0m\u001b[0;34m.\u001b[0m\u001b[0mupdate_layout\u001b[0m\u001b[0;34m(\u001b[0m\u001b[0mtitle\u001b[0m\u001b[0;34m=\u001b[0m\u001b[0;34m\"Scatter Plot with Plotly Graph Objects\"\u001b[0m\u001b[0;34m)\u001b[0m\u001b[0;34m\u001b[0m\u001b[0;34m\u001b[0m\u001b[0m\n\u001b[1;32m      3\u001b[0m \u001b[0mfig\u001b[0m\u001b[0;34m.\u001b[0m\u001b[0mshow\u001b[0m\u001b[0;34m(\u001b[0m\u001b[0;34m)\u001b[0m\u001b[0;34m\u001b[0m\u001b[0;34m\u001b[0m\u001b[0m\n",
            "\u001b[0;31mNameError\u001b[0m: name 'go' is not defined"
          ]
        }
      ]
    },
    {
      "cell_type": "markdown",
      "source": [
        "### Line Plots (plotly.express)\n"
      ],
      "metadata": {
        "id": "MaPN61DuqqB5"
      }
    },
    {
      "cell_type": "code",
      "source": [
        "\n",
        "x = np.linspace(0, 10, 100)\n",
        "y = np.sin(x)\n",
        "df_line = pd.DataFrame({'x': x, 'y': y})\n",
        "\n",
        "fig = px.line(df_line, x='x', y='y', title='Line Plot with Plotly Express')\n",
        "fig.show()"
      ],
      "metadata": {
        "id": "kHNa0xj0qloO"
      },
      "execution_count": null,
      "outputs": []
    },
    {
      "cell_type": "markdown",
      "source": [
        "### Bar Charts (plotly.express)"
      ],
      "metadata": {
        "id": "_FYswcrwrGHc"
      }
    },
    {
      "cell_type": "code",
      "source": [
        "\n",
        "fig = px.bar(df, x='Category', y='Value', color='Group', title=\"Bar Chart with Plotly Express\")\n",
        "fig.show()"
      ],
      "metadata": {
        "id": "uN-GFZWhrA0h"
      },
      "execution_count": null,
      "outputs": []
    },
    {
      "cell_type": "markdown",
      "source": [
        "### Histograms (plotly.express)\n"
      ],
      "metadata": {
        "id": "ZrSqHi1arNzn"
      }
    },
    {
      "cell_type": "code",
      "source": [
        "\n",
        "fig = px.histogram(df, x='Value', color='Category', title=\"Histogram with Plotly Express\") #color adds different colors for the different categories\n",
        "fig.show()"
      ],
      "metadata": {
        "id": "1-otLn6zrL1V"
      },
      "execution_count": null,
      "outputs": []
    },
    {
      "cell_type": "markdown",
      "source": [
        "### Box Plots (plotly.express)\n"
      ],
      "metadata": {
        "id": "SI2T51uarXyI"
      }
    },
    {
      "cell_type": "code",
      "source": [
        "\n",
        "fig = px.box(df, x='Category', y='Value', color='Group', title=\"Box Plot with Plotly Express\")\n",
        "fig.show()"
      ],
      "metadata": {
        "id": "_ojCg87CrVgO"
      },
      "execution_count": null,
      "outputs": []
    },
    {
      "cell_type": "markdown",
      "source": [
        "### Violin Plots (plotly.express)\n"
      ],
      "metadata": {
        "id": "3pkjurUwrhs0"
      }
    },
    {
      "cell_type": "code",
      "source": [
        "\n",
        "\n",
        "fig = px.violin(df, x='Category', y='Value', color='Group', box=True, points=\"all\", title=\"Violin Plot with Plotly Express\") #box shows the boxplot inside the violinplot, points shows the actual data points\n",
        "fig.show()"
      ],
      "metadata": {
        "id": "JZDWr044reUO"
      },
      "execution_count": null,
      "outputs": []
    },
    {
      "cell_type": "markdown",
      "source": [
        "### Heatmaps (plotly.graph_objects)\n"
      ],
      "metadata": {
        "id": "D9VEoqDOrs_I"
      }
    },
    {
      "cell_type": "code",
      "source": [
        "\n",
        "correlation_matrix = df[['Value']].corr()\n",
        "fig = go.Figure(data=go.Heatmap(z=correlation_matrix.values, x=correlation_matrix.index, y=correlation_matrix.columns, colorscale='Viridis', zmin=-1, zmax=1)) #set zmin and zmax to ensure the color scale is consistent across different correlation matrices.\n",
        "fig.update_layout(title=\"Heatmap with Plotly Graph Objects\")\n",
        "fig.show()"
      ],
      "metadata": {
        "id": "A8tbP8yRrniZ"
      },
      "execution_count": null,
      "outputs": []
    },
    {
      "cell_type": "markdown",
      "source": [
        "### 3D Scatter Plots (plotly.express)\n"
      ],
      "metadata": {
        "id": "NOC8fLO6r4QJ"
      }
    },
    {
      "cell_type": "code",
      "source": [
        "\n",
        "#Sample Data\n",
        "df['Value2'] = np.random.rand(10)\n",
        "fig = px.scatter_3d(df, x='Category', y='Value', z='Value2', color='Group', title=\"3D Scatter Plot with Plotly Express\")\n",
        "fig.show()"
      ],
      "metadata": {
        "id": "SAZjGfv7r1WG"
      },
      "execution_count": null,
      "outputs": []
    },
    {
      "cell_type": "markdown",
      "source": [
        "### Subplots (plotly.subplots)\n"
      ],
      "metadata": {
        "id": "2GdWcKuDsFlt"
      }
    },
    {
      "cell_type": "code",
      "source": [
        "\n",
        "from plotly.subplots import make_subplots\n",
        "\n",
        "fig = make_subplots(rows=1, cols=2, subplot_titles=('Scatter Plot', 'Bar Chart'))\n",
        "\n",
        "fig.add_trace(go.Scatter(x=df['Category'], y=df['Value'], mode='markers'), row=1, col=1)\n",
        "fig.add_trace(go.Bar(x=df['Category'], y=df['Value']), row=1, col=2)\n",
        "\n",
        "fig.update_layout(title_text=\"Subplots with Plotly\")\n",
        "fig.show()"
      ],
      "metadata": {
        "id": "ZLllfKJesC3R"
      },
      "execution_count": null,
      "outputs": []
    },
    {
      "cell_type": "markdown",
      "source": [
        "© Caleb Okon 2024\n",
        "\n",
        "Machine Learning Tutorials"
      ],
      "metadata": {
        "id": "uWo8o9Lxstv-"
      }
    }
  ]
}