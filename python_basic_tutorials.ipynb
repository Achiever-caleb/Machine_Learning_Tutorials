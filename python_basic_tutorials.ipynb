{
  "nbformat": 4,
  "nbformat_minor": 0,
  "metadata": {
    "colab": {
      "provenance": [],
      "authorship_tag": "ABX9TyNAya/nZ9KXJqNayTMVusRX",
      "include_colab_link": true
    },
    "kernelspec": {
      "name": "python3",
      "display_name": "Python 3"
    },
    "language_info": {
      "name": "python"
    }
  },
  "cells": [
    {
      "cell_type": "markdown",
      "metadata": {
        "id": "view-in-github",
        "colab_type": "text"
      },
      "source": [
        "<a href=\"https://colab.research.google.com/github/Achiever-caleb/Machine_Learning_Tutorials/blob/main/python_basic_tutorials.ipynb\" target=\"_parent\"><img src=\"https://colab.research.google.com/assets/colab-badge.svg\" alt=\"Open In Colab\"/></a>"
      ]
    },
    {
      "cell_type": "markdown",
      "source": [
        "# Python For Machine Learning\n"
      ],
      "metadata": {
        "id": "SZW2aTjpqoke"
      }
    },
    {
      "cell_type": "markdown",
      "source": [
        "\n",
        "\n",
        "### Brief History of Python\n",
        "\n",
        "- Created by Guido van Rossum in the late 1980s.\n",
        "\n",
        "- First released in 1991.\n",
        "\n",
        "- Named after the British comedy group Monty Python.\n",
        "\n",
        "- Key design philosophies: code readability, clear syntax, and \"batteries included\" (large standard library).\n",
        "\n",
        "\n",
        "### Key milestones:\n",
        "- Python 2.0 (2000): Introduced list comprehensions and a garbage collection system.\n",
        "- Python 3.0 (2008): A major, non-backward-compatible release aimed at fixing fundamental design flaws.\n",
        "- Python 2 end-of-life: January 1, 2020. All users are strongly encouraged to use Python 3.\n"
      ],
      "metadata": {
        "id": "ZSRfbmPnrfHW"
      }
    },
    {
      "cell_type": "markdown",
      "source": [
        "## Basics: Variables, Data Types, and Input/Output"
      ],
      "metadata": {
        "id": "Sy4ppC6sqznM"
      }
    },
    {
      "cell_type": "markdown",
      "source": [
        "### Variables:\n",
        " - Variables are used to store data in a program.\n",
        " - In Python, you don't need to explicitly declare the data type of a variable. It's dynamically typed.\n",
        " - Variable names are case-sensitive (e.g., my_variable and My_Variable are different).\n",
        " - Follow naming conventions (snake_case is recommended: my_variable, user_name).\n"
      ],
      "metadata": {
        "id": "VCJNweKEx_o9"
      }
    },
    {
      "cell_type": "code",
      "source": [
        "name = \"Alice\"  # String\n",
        "age = 30        # Integer\n",
        "height = 5.8    # Float\n",
        "is_student = False # Boolean\n",
        "\n",
        "print(f\"Name: {name}, Age: {age}, Height: {height}, Is Student: {is_student}\")"
      ],
      "metadata": {
        "colab": {
          "base_uri": "https://localhost:8080/"
        },
        "id": "zAa7H6knqqkk",
        "outputId": "7b3a656a-6059-4e12-ac85-c9e1c3aeefad"
      },
      "execution_count": null,
      "outputs": [
        {
          "output_type": "stream",
          "name": "stdout",
          "text": [
            "Name: Alice, Age: 30, Height: 5.8, Is Student: False\n"
          ]
        }
      ]
    },
    {
      "cell_type": "markdown",
      "source": [
        "Data Types in Python include:\n",
        "\n",
        "- Integers (int) for whole numbers, e.g., 10.\n",
        "- Floating-point numbers (float) for decimals, e.g., 3.14.\n",
        "- Strings (str) for text, e.g., \"hello\".\n",
        "- Booleans (bool) for True or False."
      ],
      "metadata": {
        "id": "O7aMQUA9yOIl"
      }
    },
    {
      "cell_type": "code",
      "source": [
        "x = 10\n",
        "y = 3.14\n",
        "z = \"Hello\"\n",
        "w = True\n",
        "\n",
        "print(type(x))\n",
        "print(type(y))\n",
        "print(type(z))\n",
        "print(type(w))\n"
      ],
      "metadata": {
        "colab": {
          "base_uri": "https://localhost:8080/"
        },
        "id": "MDMVkhyeq9U7",
        "outputId": "5ce94234-8cc1-4118-95b4-40e89a36c4f9"
      },
      "execution_count": null,
      "outputs": [
        {
          "output_type": "stream",
          "name": "stdout",
          "text": [
            "<class 'int'>\n",
            "<class 'float'>\n",
            "<class 'str'>\n",
            "<class 'bool'>\n"
          ]
        }
      ]
    },
    {
      "cell_type": "markdown",
      "source": [
        "\n",
        "### Input/Output:\n",
        "- The `print()` function is used to display output to the console.\n",
        "- The `input()` function is used to get input from the user. It always returns a string.\n"
      ],
      "metadata": {
        "id": "1JE3mOUmyvni"
      }
    },
    {
      "cell_type": "code",
      "source": [
        "user_name = input(\"Enter your name: \")\n",
        "print(f\"Hello, {user_name}!\")\n",
        "\n",
        "user_age_str = input(\"Enter your age: \") # Input is always a string\n",
        "user_age = int(user_age_str) # Convert the string to int\n",
        "print(f\"You are {user_age} years old.\")"
      ],
      "metadata": {
        "id": "U6tPVhgjswaU"
      },
      "execution_count": null,
      "outputs": []
    },
    {
      "cell_type": "markdown",
      "source": [
        "### Type Conversion (Casting):\n",
        "You can convert between data types using functions like int(), float(), str(), and bool()."
      ],
      "metadata": {
        "id": "uEzsfci8y-VX"
      }
    },
    {
      "cell_type": "code",
      "source": [
        "num_str = \"123\"\n",
        "num_int = int(num_str)  # Convert string to integer\n",
        "num_float = float(num_str) # Convert string to float\n",
        "\n",
        "print(type(num_str))\n",
        "print(type(num_int))\n",
        "print(type(num_float))"
      ],
      "metadata": {
        "colab": {
          "base_uri": "https://localhost:8080/"
        },
        "id": "IPwcx97Ls9yb",
        "outputId": "d903b051-9786-4ea8-a36f-6301a606cf7d"
      },
      "execution_count": null,
      "outputs": [
        {
          "output_type": "stream",
          "name": "stdout",
          "text": [
            "# Example of Type Conversion\n",
            "<class 'str'>\n",
            "<class 'int'>\n",
            "<class 'float'>\n"
          ]
        }
      ]
    },
    {
      "cell_type": "markdown",
      "source": [
        "### Important Note about input():\n",
        "- Because input() *always* returns a string, it's crucial to convert the input to the desired data type if you need to perform numerical operations or other type-specific tasks."
      ],
      "metadata": {
        "id": "CrNTGgUYzN2w"
      }
    },
    {
      "cell_type": "code",
      "source": [
        "num1_str = input(\"Enter the first number: \")\n",
        "num2_str = input(\"Enter the second number: \")\n",
        "\n",
        "# Without conversion, this will concatenate the strings\n",
        "print(\"Without conversion:\", num1_str + num2_str)\n",
        "\n",
        "num1 = int(num1_str)\n",
        "num2 = int(num2_str)\n",
        "\n",
        "print(\"With conversion:\", num1 + num2)"
      ],
      "metadata": {
        "colab": {
          "base_uri": "https://localhost:8080/"
        },
        "id": "b5uzBGPPtEXP",
        "outputId": "76758f78-b6e4-4e6f-f9bf-7149ca5adfa1"
      },
      "execution_count": null,
      "outputs": [
        {
          "output_type": "stream",
          "name": "stdout",
          "text": [
            "Enter the first number: 1\n",
            "Enter the second number: 2\n",
            "Without conversion: 12\n",
            "With conversion: 3\n"
          ]
        }
      ]
    },
    {
      "cell_type": "markdown",
      "source": [
        "### Arithmetic Operations and String Manipulations"
      ],
      "metadata": {
        "id": "StgiIBuivghA"
      }
    },
    {
      "cell_type": "markdown",
      "source": [
        "### Arithmetic Operations\n",
        "\n",
        "- Arithmetic operators are used to perform mathematical calculations on numeric values."
      ],
      "metadata": {
        "id": "b2ZjxzsGziW-"
      }
    },
    {
      "cell_type": "code",
      "source": [
        "num1 = 10\n",
        "num2 = 3\n",
        "\n",
        "print(f\"# Example Numbers: num1 = {num1}, num2 = {num2}\")\n",
        "\n",
        "# Addition (+)\n",
        "#Adds two operands.\n",
        "print(f\"Addition: {num1} + {num2} = {num1 + num2}\")\n",
        "\n",
        "# Subtraction (-)\n",
        "#Subtracts the second operand from the first.\n",
        "print(f\"Subtraction: {num1} - {num2} = {num1 - num2}\")\n",
        "\n",
        "# Multiplication (*)\n",
        "# Multiplies two operands.\n",
        "print(f\"Multiplication: {num1} * {num2} = {num1 * num2}\")\n",
        "\n",
        "# Division (/) - Always results in a float\n",
        "# Divides the first operand by the second. Always returns a float.\"\n",
        "print(f\"Division: {num1} / {num2} = {num1 / num2}\")\n",
        "\n",
        "# Floor Division (//) - Integer division (truncates the decimal)\n",
        "# Divides the first operand by the second and returns the integer part (floor).\"\n",
        "print(f\"Floor Division: {num1} // {num2} = {num1 // num2}\")\n",
        "\n",
        "# Modulo (%) - Returns the remainder of the division\n",
        "# Returns the remainder of the division of the first operand by the second.\"\n",
        "print(f\"Modulo (Remainder): {num1} % {num2} = {num1 % num2}\")\n",
        "\n",
        "# Exponentiation (**)\n",
        "# Raises the first operand to the power of the second.\n",
        "print(f\"Exponentiation: {num1} ** {num2} = {num1 ** num2}\")\n",
        "\n",
        "# Order of operations (PEMDAS/BODMAS) is followed\n",
        "# Python follows the standard order of operations (PEMDAS/BODMAS): Parentheses, Exponents, Multiplication and Division (from left to right), Addition and Subtraction (from left to right).\n",
        "result = (num1 + num2) * 2 - 1\n",
        "print(f\"Example with Order of Operations: (({num1} + {num2}) * 2) - 1 = {result}\")\n",
        "\n"
      ],
      "metadata": {
        "colab": {
          "base_uri": "https://localhost:8080/"
        },
        "id": "n6jtHLsDvqC0",
        "outputId": "c66ecb2a-f261-4258-9381-2044d3519434"
      },
      "execution_count": null,
      "outputs": [
        {
          "output_type": "stream",
          "name": "stdout",
          "text": [
            "# Example Numbers: num1 = 10, num2 = 3\n",
            "Addition: 10 + 3 = 13\n",
            "Subtraction: 10 - 3 = 7\n",
            "Multiplication: 10 * 3 = 30\n",
            "Division: 10 / 3 = 3.3333333333333335\n",
            "Floor Division: 10 // 3 = 3\n",
            "Modulo (Remainder): 10 % 3 = 1\n",
            "Exponentiation: 10 ** 3 = 1000\n",
            "Example with Order of Operations: ((10 + 3) * 2) - 1 = 25\n"
          ]
        }
      ]
    },
    {
      "cell_type": "markdown",
      "source": [
        "### String Manipulation\n",
        "\n",
        "- String manipulation involves various operations to modify or extract information from strings."
      ],
      "metadata": {
        "id": "z24khoW00LW3"
      }
    },
    {
      "cell_type": "code",
      "source": [
        "greeting = \"Hello\"\n",
        "target = \"World\"\n",
        "\n",
        "print(f\"# Example Strings: greeting = '{greeting}', target = '{target}'\")\n",
        "\n",
        "# Concatenation (+)\n",
        "# Joins two or more strings together.\n",
        "message = greeting + \", \" + target + \"!\"\n",
        "print(f\"Concatenation: {greeting} + ', ' + {target} + '!' = '{message}'\")\n",
        "\n",
        "# Repetition (*)\n",
        "# Repeats a string a specified number of times.\n",
        "repeated_greeting = greeting * 3\n",
        "print(f\"Repetition: {greeting} * 3 = '{repeated_greeting}'\")\n",
        "\n",
        "long_string = \"This is a long string.\"\n",
        "print(f\"# Example Long String: long_string = '{long_string}'\")\n",
        "\n",
        "# Slicing ([start:stop:step])\n",
        "# Extracts a substring from a string using indices. [start:stop:step]\"\n",
        "print(f\"Slicing:\")\n",
        "print(f\"  First four characters: long_string[0:4] = '{long_string[0:4]}'\") # Up to, but not including index 4\n",
        "print(f\"  From index 5 to the end: long_string[5:] = '{long_string[5:]}'\")\n",
        "print(f\"  Every other character: long_string[::2] = '{long_string[::2]}'\")\n",
        "print(f\"  Reverse the string: long_string[::-1] = '{long_string[::-1]}'\")\n",
        "\n",
        "# String Formatting (f-strings)\n",
        "# Creates formatted strings by embedding expressions inside string literals, preceded by an f or F.\"\n",
        "name = \"Alice\"\n",
        "age = 30\n",
        "formatted_string = f\"{name} is {age} years old.\"\n",
        "print(f\"\\n# String Formatting (f-strings):\")\n",
        "print(f\"  Formatted string: f'{{name}} is {{age}} years old.' = '{formatted_string}'\")\n",
        "\n",
        "# Other Formatting examples\n",
        "price = 19.99\n",
        "formatted_price = f\"The price is ${price:.2f}\" # Format to 2 decimal places\n",
        "print(f\"Formatting a float: {formatted_price}\")\n",
        "\n",
        "# Demonstrating different quotes\n",
        "# Python supports single (' '), double (\\\" \\\"), and triple (''' ''' or \\\"\\\"\\\" \\\"\\\"\\\") quotes for strings.\")\n",
        "# Triple quotes are useful for multi-line strings.\")\n",
        "single_quoted = 'This is a single-quoted string.'\n",
        "double_quoted = \"This is a double-quoted string.\"\n",
        "triple_quoted = \"\"\"This is a triple-quoted string.\n",
        "It can span multiple lines.\"\"\"\n",
        "\n",
        "print(f\"\\n# Different String Quotes:\")\n",
        "print(f\"Single Quotes: '{single_quoted}'\")\n",
        "print(f\"Double Quotes: \\\"{double_quoted}\\\"\")\n",
        "print(f\"Triple Quotes:\\n'''{triple_quoted}'''\")"
      ],
      "metadata": {
        "colab": {
          "base_uri": "https://localhost:8080/"
        },
        "id": "ZjJDkIWPv23n",
        "outputId": "7f1105f6-31dd-4512-b854-d0dd920ff40c"
      },
      "execution_count": null,
      "outputs": [
        {
          "output_type": "stream",
          "name": "stdout",
          "text": [
            "# Example Strings: greeting = 'Hello', target = 'World'\n",
            "Concatenation: Hello + ', ' + World + '!' = 'Hello, World!'\n",
            "Repetition: Hello * 3 = 'HelloHelloHello'\n",
            "# Example Long String: long_string = 'This is a long string.'\n",
            "Slicing:\n",
            "  First four characters: long_string[0:4] = 'This'\n",
            "  From index 5 to the end: long_string[5:] = 'is a long string.'\n",
            "  Every other character: long_string[::2] = 'Ti saln tig'\n",
            "  Reverse the string: long_string[::-1] = '.gnirts gnol a si sihT'\n",
            "\n",
            "# String Formatting (f-strings):\n",
            "  Formatted string: f'{name} is {age} years old.' = 'Alice is 30 years old.'\n",
            "Formatting a float: The price is $19.99\n",
            "\n",
            "# Different String Quotes:\n",
            "Single Quotes: 'This is a single-quoted string.'\n",
            "Double Quotes: \"This is a double-quoted string.\"\n",
            "Triple Quotes:\n",
            "'''This is a triple-quoted string.\n",
            "It can span multiple lines.'''\n"
          ]
        }
      ]
    },
    {
      "cell_type": "markdown",
      "source": [
        "### Data Structures in Python\n",
        "\n",
        "Lists: Ordered, mutable collections."
      ],
      "metadata": {
        "id": "9exHVYb54xWe"
      }
    },
    {
      "cell_type": "code",
      "source": [
        "numbers = [1, 2, 3]\n",
        "numbers.append(4)\n",
        "print(numbers)\n"
      ],
      "metadata": {
        "colab": {
          "base_uri": "https://localhost:8080/"
        },
        "id": "tkh2NQo0v5Aj",
        "outputId": "d19a20ab-66be-4ebe-8ca0-f2256d608395"
      },
      "execution_count": null,
      "outputs": [
        {
          "output_type": "stream",
          "name": "stdout",
          "text": [
            "[1, 2, 3, 4]\n"
          ]
        }
      ]
    },
    {
      "cell_type": "markdown",
      "source": [
        "Tuples: Ordered, immutable collections.\n"
      ],
      "metadata": {
        "id": "KtRV-ncw5AaX"
      }
    },
    {
      "cell_type": "code",
      "source": [
        "coordinates = (4, 5)\n",
        "print(coordinates[0])"
      ],
      "metadata": {
        "colab": {
          "base_uri": "https://localhost:8080/"
        },
        "id": "qDP8OcJz47Yx",
        "outputId": "9a41eaba-9a1e-4716-8c25-57589ef87e9d"
      },
      "execution_count": null,
      "outputs": [
        {
          "output_type": "stream",
          "name": "stdout",
          "text": [
            "4\n"
          ]
        }
      ]
    },
    {
      "cell_type": "markdown",
      "source": [
        "Dictionaries: Key-value pairs."
      ],
      "metadata": {
        "id": "bpplmt1e5Q1S"
      }
    },
    {
      "cell_type": "code",
      "source": [
        "student_scores = {\"Alice\": 85, \"Bob\": 90}\n",
        "print(student_scores[\"Alice\"])\n"
      ],
      "metadata": {
        "colab": {
          "base_uri": "https://localhost:8080/"
        },
        "id": "4Rn4ukaN5JHn",
        "outputId": "f0aab570-21b5-4ffb-d109-5cfed48e1eb1"
      },
      "execution_count": null,
      "outputs": [
        {
          "output_type": "stream",
          "name": "stdout",
          "text": [
            "85\n"
          ]
        }
      ]
    },
    {
      "cell_type": "markdown",
      "source": [
        "Sets: Unordered, unique elements."
      ],
      "metadata": {
        "id": "rH1wP7Cj5Ye3"
      }
    },
    {
      "cell_type": "code",
      "source": [
        "unique_numbers = {1, 2, 2, 3}\n",
        "print(unique_numbers)"
      ],
      "metadata": {
        "colab": {
          "base_uri": "https://localhost:8080/"
        },
        "id": "M8QrdoUK5UsO",
        "outputId": "f1cb2504-5ca5-44fd-f72d-5b661b9b4b84"
      },
      "execution_count": null,
      "outputs": [
        {
          "output_type": "stream",
          "name": "stdout",
          "text": [
            "{1, 2, 3}\n"
          ]
        }
      ]
    },
    {
      "cell_type": "markdown",
      "source": [
        "### Manipulating and Iterating Through Data Structures\n",
        "Lists\n",
        "\n",
        "\n",
        "- Appending: Adds an element to the end of a list."
      ],
      "metadata": {
        "id": "hd2WFxZ_-FjR"
      }
    },
    {
      "cell_type": "code",
      "source": [
        "numbers = [1, 2, 3]\n",
        "numbers.append(4)\n",
        "print(numbers)"
      ],
      "metadata": {
        "colab": {
          "base_uri": "https://localhost:8080/"
        },
        "id": "ZZV3VgzG5css",
        "outputId": "bf14bbde-50f1-4b3a-f075-eec2dee71965"
      },
      "execution_count": null,
      "outputs": [
        {
          "output_type": "stream",
          "name": "stdout",
          "text": [
            "[1, 2, 3, 4]\n"
          ]
        }
      ]
    },
    {
      "cell_type": "markdown",
      "source": [
        "- Removing: Removes the first occurrence of a specified value."
      ],
      "metadata": {
        "id": "5wFLaKam-jGu"
      }
    },
    {
      "cell_type": "code",
      "source": [
        "numbers.remove(2)\n",
        "print(numbers)\n"
      ],
      "metadata": {
        "colab": {
          "base_uri": "https://localhost:8080/"
        },
        "id": "-RE4_tyl-YAC",
        "outputId": "93abd3af-870a-4707-bc9c-1e677c065736"
      },
      "execution_count": null,
      "outputs": [
        {
          "output_type": "stream",
          "name": "stdout",
          "text": [
            "[1, 10, 3, 4]\n"
          ]
        }
      ]
    },
    {
      "cell_type": "markdown",
      "source": [
        "- Inserting: Adds an element at a specified position."
      ],
      "metadata": {
        "id": "DnKLFtwd-vVb"
      }
    },
    {
      "cell_type": "code",
      "source": [
        "numbers.insert(1, 10)\n",
        "print(numbers)\n"
      ],
      "metadata": {
        "colab": {
          "base_uri": "https://localhost:8080/"
        },
        "id": "axBknZhz-7eP",
        "outputId": "1f6d0108-ffd0-450c-c9e5-3bbea82ed123"
      },
      "execution_count": null,
      "outputs": [
        {
          "output_type": "stream",
          "name": "stdout",
          "text": [
            "[1, 10, 2, 3, 4]\n"
          ]
        }
      ]
    },
    {
      "cell_type": "markdown",
      "source": [
        "- Indexing: Access specific elements using their position."
      ],
      "metadata": {
        "id": "M5SnqIr3_DzS"
      }
    },
    {
      "cell_type": "code",
      "source": [
        "print(numbers[0])\n",
        "print(numbers[-1])\n"
      ],
      "metadata": {
        "colab": {
          "base_uri": "https://localhost:8080/"
        },
        "id": "02DVd9DW-8Be",
        "outputId": "caf927bc-84d8-4579-ed3e-eb51856229fb"
      },
      "execution_count": null,
      "outputs": [
        {
          "output_type": "stream",
          "name": "stdout",
          "text": [
            "1\n",
            "4\n"
          ]
        }
      ]
    },
    {
      "cell_type": "markdown",
      "source": [
        "- Slicing: Extract sublists using start, stop, and step."
      ],
      "metadata": {
        "id": "IhP9P-qJ_Tvq"
      }
    },
    {
      "cell_type": "code",
      "source": [
        "print(numbers[1:3])\n",
        "print(numbers[:2])\n",
        "print(numbers[::2])\n"
      ],
      "metadata": {
        "colab": {
          "base_uri": "https://localhost:8080/"
        },
        "id": "9KI8hIpU_KZz",
        "outputId": "9ba0ef7b-d4ca-41e9-c25a-aeb679d637f0"
      },
      "execution_count": null,
      "outputs": [
        {
          "output_type": "stream",
          "name": "stdout",
          "text": [
            "[10, 3]\n",
            "[1, 10]\n",
            "[1, 3]\n"
          ]
        }
      ]
    },
    {
      "cell_type": "markdown",
      "source": [
        "NOTE: Tuples are immutable and cannot be edited, but can be sliced and indexed."
      ],
      "metadata": {
        "id": "aKzHF-Om_haZ"
      }
    },
    {
      "cell_type": "markdown",
      "source": [
        "Dictionaries\n",
        "- Accessing Values\n",
        "\n",
        "  - Use keys to retrieve values"
      ],
      "metadata": {
        "id": "58NQQjoYB29b"
      }
    },
    {
      "cell_type": "code",
      "source": [
        "student_scores = {\"Alice\": 85, \"Bob\": 90}\n",
        "print(student_scores[\"Alice\"])\n"
      ],
      "metadata": {
        "id": "QVuxcTA__ff8"
      },
      "execution_count": null,
      "outputs": []
    },
    {
      "cell_type": "markdown",
      "source": [
        "- Modifying Values\n",
        "\n",
        "    - Update values by reassigning them to keys."
      ],
      "metadata": {
        "id": "NrgQtW3QCZjL"
      }
    },
    {
      "cell_type": "code",
      "source": [
        "student_scores[\"Alice\"] = 95\n",
        "print(student_scores)\n"
      ],
      "metadata": {
        "colab": {
          "base_uri": "https://localhost:8080/"
        },
        "id": "xsgAlLAPCeNA",
        "outputId": "47d8c390-1ed1-40ed-a289-0ca705162f43"
      },
      "execution_count": null,
      "outputs": [
        {
          "output_type": "stream",
          "name": "stdout",
          "text": [
            "{'Alice': 95, 'Bob': 90}\n"
          ]
        }
      ]
    },
    {
      "cell_type": "markdown",
      "source": [
        "- Adding: Assign a value to a new key."
      ],
      "metadata": {
        "id": "MAq18G7dCn1O"
      }
    },
    {
      "cell_type": "code",
      "source": [
        "student_scores[\"Charlie\"] = 88\n",
        "print(student_scores)\n"
      ],
      "metadata": {
        "colab": {
          "base_uri": "https://localhost:8080/"
        },
        "id": "lbAKufPzCjX-",
        "outputId": "6ea155a7-8e00-4973-ce98-57268b7f67b9"
      },
      "execution_count": null,
      "outputs": [
        {
          "output_type": "stream",
          "name": "stdout",
          "text": [
            "{'Alice': 95, 'Bob': 90, 'Charlie': 88}\n"
          ]
        }
      ]
    },
    {
      "cell_type": "markdown",
      "source": [
        "- Removing: Use pop() to remove a key-value pair."
      ],
      "metadata": {
        "id": "gGVdUsZoC4xt"
      }
    },
    {
      "cell_type": "code",
      "source": [
        "student_scores.pop(\"Bob\")\n",
        "print(student_scores)\n"
      ],
      "metadata": {
        "colab": {
          "base_uri": "https://localhost:8080/"
        },
        "id": "QnUgpUs8C0nt",
        "outputId": "9eb1b776-49ee-48b1-8712-a82aaf8d1bb4"
      },
      "execution_count": null,
      "outputs": [
        {
          "output_type": "stream",
          "name": "stdout",
          "text": [
            "{'Alice': 95, 'Charlie': 88}\n"
          ]
        }
      ]
    },
    {
      "cell_type": "markdown",
      "source": [
        "Sets\n",
        "\n",
        "- Union: Combines elements from two sets (removes duplicates)."
      ],
      "metadata": {
        "id": "A4T6VF8aDd8-"
      }
    },
    {
      "cell_type": "code",
      "source": [
        "set_a = {1, 2, 3}\n",
        "set_b = {3, 4, 5}\n",
        "print(set_a.union(set_b))  # Output: {1, 2, 3, 4, 5}\n"
      ],
      "metadata": {
        "colab": {
          "base_uri": "https://localhost:8080/"
        },
        "id": "C7yJ_6eDC8qt",
        "outputId": "4b461c1e-3c96-4352-cf15-2fef9a266c0a"
      },
      "execution_count": null,
      "outputs": [
        {
          "output_type": "stream",
          "name": "stdout",
          "text": [
            "{1, 2, 3, 4, 5}\n"
          ]
        }
      ]
    },
    {
      "cell_type": "markdown",
      "source": [
        "- Intersection: Finds common elements between sets."
      ],
      "metadata": {
        "id": "mfa5re4RDqBt"
      }
    },
    {
      "cell_type": "code",
      "source": [
        "print(set_a.intersection(set_b))  # Output: {3}\n"
      ],
      "metadata": {
        "colab": {
          "base_uri": "https://localhost:8080/"
        },
        "id": "SluD25UYDpL6",
        "outputId": "113ebd2d-5daa-4515-9ad7-54a351243081"
      },
      "execution_count": null,
      "outputs": [
        {
          "output_type": "stream",
          "name": "stdout",
          "text": [
            "{3}\n"
          ]
        }
      ]
    },
    {
      "cell_type": "markdown",
      "source": [
        "- Difference: Finds elements in one set but not in another."
      ],
      "metadata": {
        "id": "aMoXevBADzl-"
      }
    },
    {
      "cell_type": "code",
      "source": [
        "print(set_a.difference(set_b))  # Output: {1, 2}\n"
      ],
      "metadata": {
        "colab": {
          "base_uri": "https://localhost:8080/"
        },
        "id": "T880unFvD1HK",
        "outputId": "530148e8-9675-410c-f1bf-3a18852cd88c"
      },
      "execution_count": null,
      "outputs": [
        {
          "output_type": "stream",
          "name": "stdout",
          "text": [
            "{1, 2}\n"
          ]
        }
      ]
    },
    {
      "cell_type": "markdown",
      "source": [
        "- Adding:\n"
      ],
      "metadata": {
        "id": "8SepF1wFEFEo"
      }
    },
    {
      "cell_type": "code",
      "source": [
        "set_a.add(6)\n",
        "print(set_a)  # Output: {1, 2, 3, 6}\n"
      ],
      "metadata": {
        "id": "w04SVxeFD-EE"
      },
      "execution_count": null,
      "outputs": []
    },
    {
      "cell_type": "markdown",
      "source": [
        "Removing:"
      ],
      "metadata": {
        "id": "wZfD1mwpEOXX"
      }
    },
    {
      "cell_type": "code",
      "source": [
        "set_a.remove(3)\n",
        "print(set_a)  # Output: {1, 2, 6}\n"
      ],
      "metadata": {
        "colab": {
          "base_uri": "https://localhost:8080/"
        },
        "id": "pOnpzO48ESPR",
        "outputId": "6b0d3513-40fe-4c77-f4d4-d2e87b19e605"
      },
      "execution_count": null,
      "outputs": [
        {
          "output_type": "stream",
          "name": "stdout",
          "text": [
            "{1, 2}\n"
          ]
        }
      ]
    },
    {
      "cell_type": "code",
      "source": [],
      "metadata": {
        "id": "n3zzsuUJESp5"
      },
      "execution_count": null,
      "outputs": []
    },
    {
      "cell_type": "markdown",
      "source": [
        "### Iterating Through Data Structures"
      ],
      "metadata": {
        "id": "Q92cC_NcEWIn"
      }
    },
    {
      "cell_type": "markdown",
      "source": [
        "Lists"
      ],
      "metadata": {
        "id": "u7Lt9tQlEdAb"
      }
    },
    {
      "cell_type": "code",
      "source": [
        "numbers = [10, 20, 30]\n",
        "for num in numbers:\n",
        "    print(num)\n"
      ],
      "metadata": {
        "id": "YmzYkIhTEYGG"
      },
      "execution_count": null,
      "outputs": []
    },
    {
      "cell_type": "markdown",
      "source": [
        "Dictionaries"
      ],
      "metadata": {
        "id": "uQv9-YuxEjhI"
      }
    },
    {
      "cell_type": "code",
      "source": [
        "for key, value in student_scores.items():\n",
        "    print(f\"{key}: {value}\")"
      ],
      "metadata": {
        "id": "OwWrL48bEliP"
      },
      "execution_count": null,
      "outputs": []
    },
    {
      "cell_type": "markdown",
      "source": [
        "Sets"
      ],
      "metadata": {
        "id": "sXNWhcTcEqJj"
      }
    },
    {
      "cell_type": "code",
      "source": [
        "for elem in set_a:\n",
        "    print(elem)\n"
      ],
      "metadata": {
        "id": "wR4uodTAEq8t"
      },
      "execution_count": null,
      "outputs": []
    },
    {
      "cell_type": "markdown",
      "source": [
        "Tuples"
      ],
      "metadata": {
        "id": "LwP1IKD7E03P"
      }
    },
    {
      "cell_type": "code",
      "source": [
        "for value in my_tuple:\n",
        "    print(value)\n"
      ],
      "metadata": {
        "id": "g_HulsF_EzvD"
      },
      "execution_count": null,
      "outputs": []
    },
    {
      "cell_type": "markdown",
      "source": [
        "###  Control Structures: Loops and Conditionals"
      ],
      "metadata": {
        "id": "TJjZCpewFCze"
      }
    },
    {
      "cell_type": "markdown",
      "source": [
        "\n",
        "Control structures allow you to control the flow of execution in your program.\n",
        "\n",
        "\n",
        "\n",
        "\n",
        " If-else Statements: Making decisions based on different conditions\n",
        "- If-else Statements\n",
        "- The 'if' statement executes a block of code if a condition is true.\n",
        "-  The 'else' statement executes a block of code if the 'if' condition is false.\n",
        "- The 'elif' (else if) statement allows you to check multiple conditions in sequence."
      ],
      "metadata": {
        "id": "jbxPYKKnFPq0"
      }
    },
    {
      "cell_type": "code",
      "source": [
        "age = int(input(\"Enter your age: \"))\n",
        "\n",
        "if age >= 18:\n",
        "    print(\"You are an adult.\")\n",
        "elif age >= 13:  # Check another condition if the first is false\n",
        "    print(\"You are a teenager.\")\n",
        "else:\n",
        "    print(\"You are a child.\")\n",
        "\n",
        "print(\"\\n# Example with multiple conditions and logical operators:\")\n",
        "score = int(input(\"Enter your score: \"))\n",
        "if score >= 90 and score <= 100:\n",
        "    print(\"Grade: A\")\n",
        "elif score >= 80 and score < 90:\n",
        "    print(\"Grade: B\")\n",
        "elif score >= 70 and score < 80:\n",
        "    print(\"Grade: C\")\n",
        "elif score >= 0 and score < 70:\n",
        "    print(\"Grade: F\")\n",
        "else:\n",
        "    print(\"Invalid score entered.\")\n"
      ],
      "metadata": {
        "id": "68KZ09ZNFFj3"
      },
      "execution_count": null,
      "outputs": []
    },
    {
      "cell_type": "markdown",
      "source": [
        "### For Loops: Iterating over sequences\n",
        "\n",
        "- A 'for' loop is used to iterate over a sequence (like a list, tuple, string, or range).\n"
      ],
      "metadata": {
        "id": "cnRwSwbRIQ8E"
      }
    },
    {
      "cell_type": "code",
      "source": [
        "fruits = [\"apple\", \"banana\", \"cherry\"]\n",
        "print(\"# Iterating over a list:\")\n",
        "for fruit in fruits:\n",
        "    print(fruit)\n",
        "\n",
        "print(\"\\n# Iterating over a string:\")\n",
        "my_string = \"Python\"\n",
        "for char in my_string:\n",
        "    print(char)\n",
        "\n",
        "\n",
        "# The range() function generates a sequence of numbers.\n",
        "# range(stop): Generates numbers from 0 up to (but not including) stop.\n",
        "# range(start, stop): Generates numbers from start up to (but not including) stop.\n",
        "# range(start, stop, step): Generates numbers from start up to stop, incrementing by step.\n",
        "\n",
        "print(\"# range(5):\")\n",
        "for i in range(5):\n",
        "    print(i)\n",
        "\n",
        "print(\"# range(2, 7):\")\n",
        "for i in range(2, 7):\n",
        "    print(i)\n",
        "\n",
        "print(\"# range(1, 10, 2):\")\n",
        "for i in range(1, 10, 2):\n",
        "    print(i)\n",
        "\n",
        "print(\"\\n# Iterating over a tuple\")\n",
        "my_tuple = (10, 20, 30)\n",
        "for item in my_tuple:\n",
        "    print(item)"
      ],
      "metadata": {
        "id": "rA6j29F_IU6w"
      },
      "execution_count": null,
      "outputs": []
    },
    {
      "cell_type": "markdown",
      "source": [
        "### While Loops: Executing code while a condition is true\n",
        "- A 'while' loop executes a block of code as long as a condition is true.\n",
        "- Be careful to avoid infinite loops by ensuring the condition eventually becomes false."
      ],
      "metadata": {
        "id": "lg-4WVupI8d9"
      }
    },
    {
      "cell_type": "code",
      "source": [
        "count = 0\n",
        "print(\"# Example with a counter:\")\n",
        "while count < 5:\n",
        "    print(f\"Count is: {count}\")\n",
        "    count += 1  # Important: Increment the counter to avoid an infinite loop\n",
        "\n",
        "print(\"\\n# Example with user input:\")\n",
        "user_input = \"\"\n",
        "while user_input != \"quit\":\n",
        "    user_input = input(\"Enter a command ('quit' to exit): \")\n",
        "    print(f\"You entered: {user_input}\")\n",
        "\n",
        "print(\"\\n# Using 'break' to exit a loop prematurely:\")\n",
        "i = 0\n",
        "while True: #this would normally be an infinite loop\n",
        "    print(i)\n",
        "    i += 1\n",
        "    if i >= 5:\n",
        "        break #exits the loop when i is 5 or more\n",
        "\n",
        "print(\"\\n# Using 'continue' to skip to the next iteration:\")\n",
        "for x in range(10):\n",
        "    if x % 2 == 0: #if x is even\n",
        "        continue #skip to the next iteration\n",
        "    print(f\"{x} is odd\") #only odd numbers will be printed"
      ],
      "metadata": {
        "id": "WwgQszU9JYeK"
      },
      "execution_count": null,
      "outputs": []
    },
    {
      "cell_type": "markdown",
      "source": [
        "### Functions and Modules\n",
        "\n",
        "\n",
        "Defining and Calling Functions\n",
        "\n",
        "\n",
        "- A function is a reusable block of code that performs a specific task.\n",
        "- Defining a function uses the 'def' keyword, followed by the function name, parentheses '()', and a colon ':'.\n",
        "- Calling a function executes the code within its block."
      ],
      "metadata": {
        "id": "8LtmJqsgLpuL"
      }
    },
    {
      "cell_type": "code",
      "source": [
        "def greet(name):\n",
        "    \"\"\"This function greets the person passed in as a parameter.\"\"\" # Docstring\n",
        "    print(f\"Hello, {name}!\")"
      ],
      "metadata": {
        "id": "Gg_xXSr8L718"
      },
      "execution_count": null,
      "outputs": []
    },
    {
      "cell_type": "code",
      "source": [
        "greet(\"Charlie\")\n",
        "greet(\"Alice\")"
      ],
      "metadata": {
        "colab": {
          "base_uri": "https://localhost:8080/"
        },
        "id": "XaqTwiAFMFyi",
        "outputId": "ce476ab6-5102-40a9-8c88-362f2042b3c7"
      },
      "execution_count": null,
      "outputs": [
        {
          "output_type": "stream",
          "name": "stdout",
          "text": [
            "Hello, Charlie!\n",
            "Hello, Alice!\n"
          ]
        }
      ]
    },
    {
      "cell_type": "markdown",
      "source": [
        "Passing Arguments to Functions\n",
        "\n",
        "- Arguments are values passed to a function when it's called. They are used to provide input to the function."
      ],
      "metadata": {
        "id": "07dW0o_LMXgt"
      }
    },
    {
      "cell_type": "code",
      "source": [
        "def add(x, y):\n",
        "    print(f\"x is {x}\")\n",
        "    print(f\"y is {y}\")\n",
        "    print(\"Performing x + y\")\n",
        "    result = x + y\n",
        "    return result"
      ],
      "metadata": {
        "id": "dl9XyDoJMLTf"
      },
      "execution_count": null,
      "outputs": []
    },
    {
      "cell_type": "code",
      "source": [
        "sum_result = add(5, 3)\n",
        "print(f\"The sum is: {sum_result}\")\n",
        "\n",
        "sum_result2 = add(10, 20)\n",
        "print(f\"The sum is: {sum_result2}\")"
      ],
      "metadata": {
        "colab": {
          "base_uri": "https://localhost:8080/"
        },
        "id": "ewxUcFrKMi08",
        "outputId": "84ad7d80-3784-434c-ef29-366a0601b5c8"
      },
      "execution_count": null,
      "outputs": [
        {
          "output_type": "stream",
          "name": "stdout",
          "text": [
            "x is 5\n",
            "y is 3\n",
            "Performing x + y\n",
            "The sum is: 8\n",
            "x is 10\n",
            "y is 20\n",
            "Performing x + y\n",
            "The sum is: 30\n"
          ]
        }
      ]
    },
    {
      "cell_type": "markdown",
      "source": [
        "Note: Returning Values from Functions\n",
        "- The 'return' statement is used to send a value back from a function to the caller.\n",
        "- If a function doesn't have a 'return' statement, it implicitly returns 'None'."
      ],
      "metadata": {
        "id": "yKWYdgHeM4P6"
      }
    },
    {
      "cell_type": "markdown",
      "source": [
        " Importing Modules and Using Their Functions\n",
        "\n",
        "- A module is a file containing Python definitions and statements. Modules provide a way to organize code into reusable units.\n",
        "\n",
        "- The 'import' statement is used to import modules.\n"
      ],
      "metadata": {
        "id": "_IIdNTkGNoio"
      }
    },
    {
      "cell_type": "code",
      "source": [
        "import math  # Import the math module\n",
        "print(f\"The square root of 25 is: {math.sqrt(25)}\")\n",
        "\n",
        "import random\n",
        "print(f\"A random integer between 1 and 10: {random.randint(1, 10)}\")\n",
        "\n",
        "# Importing specific functions from a module\n",
        "from datetime import datetime\n",
        "print(f\"Current date and time: {datetime.now()}\")"
      ],
      "metadata": {
        "id": "BRSQlKLZMpKq"
      },
      "execution_count": null,
      "outputs": []
    },
    {
      "cell_type": "markdown",
      "source": [
        "Creating Your Own Modules\n",
        "\n",
        "- To create your own module, simply save Python code in a file with a '.py' extension.\n",
        "- Then, you can import that file as a module in other Python scripts."
      ],
      "metadata": {
        "id": "PuIBZgn8OGwT"
      }
    },
    {
      "cell_type": "code",
      "source": [
        "# Example: Create a file named my_module.py with the following content:\n",
        "# def my_function():\n",
        "#     print(\"This is from my module.\")\n",
        "\n",
        "\n",
        "# import my_module\n",
        "# my_module.my_function()"
      ],
      "metadata": {
        "id": "kdnX3gPyOUq7"
      },
      "execution_count": null,
      "outputs": []
    },
    {
      "cell_type": "markdown",
      "source": [
        " File Handling\n",
        "\n",
        "\n",
        "- File handling allows you to read from and write to files.\n",
        "\n",
        "Reading from and Writing to Text Files\n",
        "- Reading from and Writing to Text Files"
      ],
      "metadata": {
        "id": "9NrsjXGAOk9Q"
      }
    },
    {
      "cell_type": "code",
      "source": [
        "try:\n",
        "    with open(\"my_file.txt\", \"w\") as f: # 'w' mode overwrites existing content\n",
        "        f.write(\"This is some text.\\n\")\n",
        "        f.write(\"This is another line.\\n\")\n",
        "    print(\"File Written\")\n",
        "except Exception as e:\n",
        "    print(f\"An error occurred during writing: {e}\")\n",
        "\n",
        "try:\n",
        "    with open(\"my_file.txt\", \"r\") as f: # 'r' mode is for reading\n",
        "        contents = f.read()  # Read the entire file\n",
        "        print(\"\\nFile Contents:\")\n",
        "        print(contents)\n",
        "    with open(\"my_file.txt\", \"a\") as f: # 'a' mode appends to the file\n",
        "        f.write(\"This line is appended\\n\")\n",
        "    with open(\"my_file.txt\", \"r\") as f:\n",
        "        contents = f.read()\n",
        "        print(\"\\nFile Contents after append:\")\n",
        "        print(contents)\n",
        "except FileNotFoundError:\n",
        "    print(\"File not found.\")\n",
        "except Exception as e:\n",
        "    print(f\"An error occurred during reading: {e}\")\n"
      ],
      "metadata": {
        "id": "DrnP7cpKOxo0"
      },
      "execution_count": null,
      "outputs": []
    },
    {
      "cell_type": "markdown",
      "source": [
        "\n",
        "Opening and Closing Files (using 'with')\n",
        "- Opening and Closing Files (using 'with')\n",
        "- The 'with' statement ensures that files are properly closed even if errors occur. It's the recommended way to work with files.\n",
        "- The 'with' statement handles closing the file automatically, which is important to prevent resource leaks.\n",
        "- The different modes for opening a file are:\n",
        "- 'r': Read (default)\n",
        "- 'w': Write (overwrites the file if it exists)\n",
        "- 'a': Append (adds to the end of the file)\n",
        "- 'x': Create (creates a new file, raises an error if it exists)\n",
        "- 'b': Binary mode\n",
        "- 't': Text mode (default)\n",
        "- '+': Updating (reading and writing)\n",
        "\n",
        "Basic Error Handling (try-except blocks)\n",
        "- Basic Error Handling (try-except blocks)\n",
        "- The 'try-except' block is used to handle exceptions (errors) that might occur during code execution.\n",
        "- Code within the 'try' block is monitored for exceptions.\n",
        "- If an exception occurs, the code within the corresponding 'except' block is executed."
      ],
      "metadata": {
        "id": "yXnvp_-dO-Vl"
      }
    },
    {
      "cell_type": "code",
      "source": [
        "try:\n",
        "    result = 10 / 0\n",
        "except ZeroDivisionError:\n",
        "    print(\"Cannot divide by zero!\")\n",
        "except FileNotFoundError:\n",
        "    print(\"File not found\")\n",
        "except Exception as e:  # Catching a more general exception\n",
        "    print(f\"An unexpected error occurred: {e}\")\n",
        "\n",
        "print(\"Program continues...\") # This will still execute after a caught exception"
      ],
      "metadata": {
        "id": "oHQkG76vPkDp"
      },
      "execution_count": null,
      "outputs": []
    },
    {
      "cell_type": "markdown",
      "source": [
        "**© Caleb Okon 2024**\n",
        "\n",
        "Python for Machine Learning Tutorials\n"
      ],
      "metadata": {
        "id": "BcAhNUp-51GN"
      }
    }
  ]
}